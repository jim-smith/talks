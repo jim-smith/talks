{
 "cells": [
  {
   "cell_type": "markdown",
   "id": "e78c9d05",
   "metadata": {
    "slideshow": {
     "slide_type": "slide"
    }
   },
   "source": [
    " # Automated Assessment for CSCT modules\n",
    " ## Agenda\n",
    " \n",
    " >- Blackboard Tests (Jim)\n",
    " \n",
    " >- nbgrader (Haixia)\n",
    " \n",
    " >- Dewis (Rhys/Jim)"
   ]
  },
  {
   "cell_type": "markdown",
   "id": "993a56a5",
   "metadata": {
    "slideshow": {
     "slide_type": "slide"
    }
   },
   "source": [
    "## Blackboard tests: Question types\n",
    "\n",
    "\n",
    "\n",
    "- Multiple choice: _simple, need to focus on writing plausible distractors_\n",
    "    - example: spotting correct chatbot reponse in scenario\n",
    "    - can award partial credit for some responses    \n",
    "- Multiple answer: _more testing questions if you let none of the answers be right_\n",
    "- Matching: _lets you ask lots of question with the same answers_  \n",
    "   - but you can't be as flexible in having partial marks for some answers\n",
    "- Jumbled sentence: _Fill the missing gaps in sentences from drop down list_\n",
    "\n",
    "- Fill the blanks: _I think they are discrinminatory, test spelling rather than knowledge_\n",
    "- Short answer / essay: __need manual marking__  \n",
    "   __but__ Blackboard handles this quite well   \n",
    "   __and__ lets you mix up free text and auto-marked Q;s in same assignment\n",
    "- Ordering / Visual (spot-the-ball) / Numerical/ Others\n",
    " \n",
    "**I just realised/discovered you can have questions with 0 marks**.  \n",
    "These might be useful for introducing case studies.\n"
   ]
  },
  {
   "cell_type": "markdown",
   "id": "7c0e7e75",
   "metadata": {
    "slideshow": {
     "slide_type": "slide"
    }
   },
   "source": [
    "## Blackboard Tests: Writing Questions\n",
    "\n",
    "\n",
    "1. Keep your questions in a pool so you can reuse them in self-assessment tests and future years\n",
    "\n",
    "2. Write different versions of some questions to offer variety\n",
    "\n",
    "3. I have 3 topics so I have roughly equal numbers of questions and marks for each.  \n",
    "   Within each topic, at level 1 I do:\n",
    "   40-50% of the marks on relatively straightforward questions testing recall and recognition of ideas  \n",
    "   ~40% of the marks on a smaller number of questions **applying** the ideas e.g. in scenario based questions  \n",
    "   ~10% of the marks for 1-2 really stretching to discriminate the students  \n",
    "  * I warn them in advance most people won't get these right**\n",
    "  \n",
    "  Proportions might vary for M level I guess\n"
   ]
  },
  {
   "cell_type": "markdown",
   "id": "494b3320",
   "metadata": {
    "slideshow": {
     "slide_type": "slide"
    }
   },
   "source": [
    "## Blackboard tests: deploying and marking  assessments\n",
    "- password protect them\n",
    "- use question sets / random blocks to create multiple versions of assessment. \n",
    "   easier than writing different assessments for each class\n",
    "- new window, one Q at a time, \n",
    "-make full feedback available immediately/after moderation\\] for \\[self assessment | controleld conditions\\] \n",
    "- item analysis reports (from gradebook) are useful for feedback to you on how good the exam was!"
   ]
  },
  {
   "cell_type": "markdown",
   "id": "cbbbb252",
   "metadata": {
    "slideshow": {
     "slide_type": "slide"
    }
   },
   "source": [
    "## Blsckboard tests: ideas and questions?\n",
    "- We should look into how we could share questions\n",
    "- would be worth checking out exporting questions from BB then importing into another VLE/teams"
   ]
  },
  {
   "cell_type": "markdown",
   "id": "e93885df",
   "metadata": {
    "slideshow": {
     "slide_type": "slide"
    }
   },
   "source": [
    "# nb-grader  - Haixia"
   ]
  },
  {
   "cell_type": "markdown",
   "id": "dd2fe43b",
   "metadata": {
    "slideshow": {
     "slide_type": "slide"
    }
   },
   "source": [
    "# Dewis: Basic idea (@Rhys to interrupt at will)\n",
    "\n",
    "\n",
    "- you design tasks for students to do\n",
    "- you publish spec\n",
    "- you create question(s) and assessment on dewisprod server\n",
    "- you link from dewis to blackboard\n",
    "- students submit code/files to Dewis via a link on blackboard\n",
    "- Dewis calls your code which:\n",
    "    - imports student code into e.g. a python programme\n",
    "    - runs the code within your test framework\n",
    "    - generates and returns marks and feedback to Dewis\n",
    "- Dewis provides marks and feedback to students immediately on a web page they can revisit\n",
    "- Dewis magic does all the management and reporting and feed back to BB\n"
   ]
  },
  {
   "cell_type": "markdown",
   "id": "fcc50d48",
   "metadata": {
    "slideshow": {
     "slide_type": "slide"
    }
   },
   "source": [
    "# Creating questions in DEWIS (@Rhys to interrupt )\n",
    "- Easiest to make a copy of an existing question within  DEWIS \n",
    "- on dewisprod make copy of relevant question folder in       ~/your_question_folder_directory/new_question_name \n",
    " - Contains 2 perl files and  a folder called py-files.   \n",
    " - 1: create  scripts that imports student method, returns an int & string\n",
    "  - 2: edit the_marking.py to call your method\n",
    "  - 3: edit on_submission.pl to allow any imports **  \n",
    " \n",
    "- Back in the DEWIS question manager, edit the new question to give it the location of your new files\n",
    "- create some test submissions\n",
    "- try out the new question with those tests"
   ]
  },
  {
   "cell_type": "markdown",
   "id": "1ef2462e",
   "metadata": {
    "slideshow": {
     "slide_type": "slide"
    }
   },
   "source": [
    "## Creating new assignment in DEWIS (@Rhys to interrupt)\n",
    "Easiest to copy an existing one or upload a script from file (we can provide)\n",
    "\n",
    "- set time, number of access attempts etc.\n",
    "- make active\n",
    "- copy custom params to clipboard\n",
    "\n",
    "## Making the link to blackboard (good helpfile on dewis)\n",
    "- in your BB->_assignments_-> _coursework_ folder select _add content_->_dewis assignment_\n",
    "- paste custom parmeters into text box\n",
    "- set it to reportt results (or it won't go into gradebook)\n",
    "- choose other params including available data range\n",
    "- make available to students "
   ]
  },
  {
   "cell_type": "markdown",
   "id": "8882e8fd",
   "metadata": {
    "slideshow": {
     "slide_type": "slide"
    }
   },
   "source": [
    "## Dewis examples from 2021-22: 1 AIML chatbot\n",
    "\n",
    "- I publish set of 43 questions and desired responses\n",
    "    - *mark = num_correct_responses if <43 else 90 - num_categories*\n",
    "    - 100 if they beat my score for num_categories\n",
    "- Students submit a file of .aiml code\n",
    "- Marking code creates chatbot, loads their aiml, runs through questions\n",
    "    - sees how many they got right\n",
    "    - sees how often they have duplicated information in different categories\n",
    "    - sees how often they have used different language constructs\n",
    "    - generate different marks and feedback to DEWIS\n",
    "- DEWIS set up to give them 5 attempts, and take the best\n",
    "- Resit/next year: different txt file of Qs and desired answers"
   ]
  },
  {
   "cell_type": "markdown",
   "id": "e029c68d",
   "metadata": {
    "slideshow": {
     "slide_type": "slide"
    }
   },
   "source": [
    "## Dewis examples from 2021-22: 2 Visualising a data set\n",
    "- builds on code they have used in a lab workbook\n",
    "- students provide a **cluster_and_visualise()** method\n",
    "  - has to run kmeans on a dataset then produce a matplotlib visualisation that return fig,ax\n",
    "  - mark according to complexity of visualisation\n",
    "- my code creates data set then runs their code on it and interrogates the artefacts\n",
    "\n",
    "- **@Rhys** explain how exception catching works"
   ]
  },
  {
   "cell_type": "markdown",
   "id": "17826e5f",
   "metadata": {
    "slideshow": {
     "slide_type": "slide"
    }
   },
   "source": [
    "## Dewis examples from 2021-22: 3: K Nearest Neighbours\n",
    "- Lab workbook has simple 1-NN code and pseudocode to change it to k-NN\n",
    "- Students have to submit implementation of kNN\n",
    "- marking code create a few datasets, compares their outcomes with 'ideal' kNN, 1-NN, others to see what they have done\n",
    "\n",
    "- **with hindsight** I should have specified either\n",
    "  - more of the helper method so i could check different bits of their code\n",
    "  - or not given them pseudocode, and used this to create more discriminative assignments"
   ]
  },
  {
   "cell_type": "markdown",
   "id": "7c0c51cf",
   "metadata": {
    "slideshow": {
     "slide_type": "slide"
    }
   },
   "source": [
    "## Things we've done in the past\n",
    "\n",
    "- Set of exercises for 'teach yourself C' module\n",
    "- Java version of chatbot system\n",
    "- C-based assignemnts using a code-base I provided.\n",
    "  - Implementing Depth-first/breadth first search for N-Queens\n",
    "  - Implement Best-first/A* for 'password-cracking with clues'\n",
    "  - Implementing simplified Rule induction algorithm for classification.\n",
    "- Python version of rule induction algorithm  \n",
    "  I gave them a trivial super-class to extend\n",
    "\n",
    "**Key to these** was providing a code base that I could instrument on the server-version  to provide marks and feedback"
   ]
  },
  {
   "cell_type": "markdown",
   "id": "47641a77",
   "metadata": {
    "slideshow": {
     "slide_type": "slide"
    }
   },
   "source": [
    "## In practice ...\n",
    "\n",
    "- AIML exercise is fairly straightforward.     \n",
    "   I give them a notebook with copy of the marking code for transparency.  \n",
    "   Means they can develop their work offline on csctcloud / their own machines.  \n",
    "   I've learned what exceptinos to catch and report via feedback.   \n",
    "   Most manage this fine - **and lots of them really enjoy the challenge**\n",
    "  \n",
    "- I've only rarely been aware of students actually reading the FAQs/discussion boards I put Blackboard :(\n",
    "- **Some students are more likely to email you than read the feedback!!**  \n",
    "  somehow I/we need to change this culture.  "
   ]
  },
  {
   "cell_type": "markdown",
   "id": "4ddf9698",
   "metadata": {
    "slideshow": {
     "slide_type": "slide"
    }
   },
   "source": [
    "## In practice .. risk of turning into coding tutorials. \n",
    "- Others are more challenging for weaker students.  \n",
    "  - massive tendency to use up their atttempts on code that doesn't run.  \n",
    "  - Weaker students not able to benefit from code resources I provide to help them develop their work.  \n",
    "\n",
    "    \n",
    "- I probably spent more time thinking about what they might do wrong,  \n",
    "  and making sure my code catches these as exceptions  \n",
    "  than I do writing the basic code. \n",
    "  "
   ]
  },
  {
   "cell_type": "markdown",
   "id": "41a3f6a2",
   "metadata": {
    "slideshow": {
     "slide_type": "slide"
    }
   },
   "source": [
    "## Next year\n",
    "- I will provide link to separate 'compilation checker'  assessment on dewis with unlimited attempts..   \n",
    "   - It will  just checks their code runs, \n",
    "     without generating feedback     (except for errors) or marks\n",
    "- I will probably:\n",
    "  - do chatbot again with different Q's/As\n",
    "  - refine the visualisation task\n",
    "  - get them to make a different classifer for the third assignemnt\n",
    "  - label the third assignment as _deliberately hard - for keen people_\n",
    "    and not give them as much pseudocode in advance."
   ]
  },
  {
   "cell_type": "markdown",
   "id": "ce500947",
   "metadata": {
    "slideshow": {
     "slide_type": "slide"
    }
   },
   "source": [
    "## Assessment Offences\n",
    "- This year I downloaded all the submissions and wrote a script  \n",
    "   that runs them through copydetect to look for collusion.\n",
    "   - Copydetect produces a tunable html report that I back up with diff\n",
    "   - detected and reported 18 students\n",
    "   - happy to share this script.\n",
    "   \n",
    "**Kevin** would like us to automate how we prodiuce AO reports to include all relevant evidence ...\n",
    "\n",
    "@Rhys: \n",
    "- could we do anything like this automatically on DEWIS? \n",
    "- can you describe how you manage this for maths assignments   "
   ]
  },
  {
   "cell_type": "code",
   "execution_count": null,
   "id": "9350555e",
   "metadata": {},
   "outputs": [],
   "source": []
  }
 ],
 "metadata": {
  "celltoolbar": "Slideshow",
  "kernelspec": {
   "display_name": "Python 3 (ipykernel)",
   "language": "python",
   "name": "python3"
  },
  "language_info": {
   "codemirror_mode": {
    "name": "ipython",
    "version": 3
   },
   "file_extension": ".py",
   "mimetype": "text/x-python",
   "name": "python",
   "nbconvert_exporter": "python",
   "pygments_lexer": "ipython3",
   "version": "3.9.13"
  }
 },
 "nbformat": 4,
 "nbformat_minor": 5
}
